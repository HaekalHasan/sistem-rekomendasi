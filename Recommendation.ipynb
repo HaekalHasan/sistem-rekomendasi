{
  "nbformat": 4,
  "nbformat_minor": 0,
  "metadata": {
    "colab": {
      "provenance": []
    },
    "kernelspec": {
      "name": "python3",
      "display_name": "Python 3"
    },
    "language_info": {
      "name": "python"
    }
  },
  "cells": [
    {
      "cell_type": "markdown",
      "source": [
        "# Laporan Proyek Machine Learning - [Haekal Hasan Thanvindra]"
      ],
      "metadata": {
        "id": "DsGuTW7W8B08"
      }
    },
    {
      "cell_type": "markdown",
      "source": [
        "## **Project Overview**"
      ],
      "metadata": {
        "id": "LS2x26Jx-aZH"
      }
    },
    {
      "cell_type": "markdown",
      "source": [
        "**Latar Belakang**\n",
        "\n",
        "Board game merupakan bentuk hiburan yang telah ada selama ribuan tahun dan terus berkembang hingga kini. Di era modern, board game tidak hanya menjadi sarana rekreasi, tetapi juga media edukasi dan sosial yang populer di kalangan berbagai usia. Menurut data dari [BoardGameGeek](https://boardgamegeek.com/) (BGG), terdapat lebih dari 19.000 board game yang telah dirilis dan diulas oleh komunitas pengguna secara global.\n",
        "\n",
        "Namun, dengan jumlah board game yang begitu banyak dan beragam — baik dari segi tema, mekanik permainan, tingkat kompleksitas, hingga jumlah pemain — pengguna sering kali kesulitan menemukan game yang sesuai dengan preferensi mereka. Hal ini terutama dirasakan oleh pemain baru atau pengguna yang ingin menjelajahi genre baru namun tidak memiliki referensi yang memadai.\n",
        "\n",
        "Dengan memanfaatkan pendekatan sistem rekomendasi, kita dapat membantu pengguna menemukan board game yang relevan dengan minat mereka. Sistem ini dapat bekerja berdasarkan konten game (seperti genre dan mekanik permainan) atau berdasarkan pola kesukaan pengguna lain yang serupa.\n",
        "\n",
        "**Kenapa Masalah Ini Harus Diselesaikan**\n",
        "\n",
        "Membangun sistem rekomendasi board game dapat memberikan berbagai manfaat seperti:\n",
        "\n",
        "* Membantu pengguna menemukan game yang sesuai preferensi tanpa harus menelusuri ribuan pilihan secara manual.\n",
        "* Meningkatkan pengalaman pengguna, terutama bagi pemula yang masih mencari tahu game apa yang cocok untuk mereka.\n",
        "* Memberikan nilai tambah bagi platform katalog game seperti BGG, toko board game online, atau aplikasi komunitas gamer.\n",
        "\n",
        "Dengan meningkatnya tren personalisasi dan data-driven decision making, sistem rekomendasi menjadi solusi yang relevan dan aplikatif dalam membantu pengguna bernavigasi di tengah banyaknya pilihan board game yang tersedia.\n",
        "\n",
        "**Referensi Pendukung**\n",
        "\n",
        "* A. Fanca, A. Puscasiu, D. -I. Gota and H. Valean, \"Recommendation Systems with Machine Learning,\" 2020 21th International Carpathian Control Conference (ICCC), High Tatras, Slovakia, 2020, pp. 1-6, doi: 10.1109/ICCC49264.2020.9257290. [Link](https://ieeexplore.ieee.org/document/9257290)"
      ],
      "metadata": {
        "id": "6BK4K2eX8FJ4"
      }
    },
    {
      "cell_type": "markdown",
      "source": [
        "## Business Understanding"
      ],
      "metadata": {
        "id": "nLTh7PmN_kMo"
      }
    },
    {
      "cell_type": "markdown",
      "source": [
        "**Problem Statements**\n",
        "\n",
        "* Bagaimana cara merekomendasikan board game yang sesuai dengan preferensi pengguna berdasarkan data atribut game seperti `Mechanics` dan `Domains`?\n",
        "\n",
        "**Goals**\n",
        "\n",
        "* Membangun sistem rekomendasi board game dengan pendekatan **Content-Based Filtering**\n",
        "* Mengevaluasi performa sistem rekomendasi untuk memastikan rekomendasi yang dihasilkan relevan.\n",
        "\n",
        "**Solution Statements**\n",
        "\n",
        "* Menggunakan Content-Based Filtering dengan memanfaatkan atribut seperti `Mechanics` dan `Domains` untuk mengukur kemiripan antar board game.\n",
        "* Melakukan evaluasi terhadap hasil rekomendasi menggunakan metrik Precision\\@K berdasarkan kesamaan konten."
      ],
      "metadata": {
        "id": "9Sw_ymwy_nH6"
      }
    },
    {
      "cell_type": "markdown",
      "source": [
        "## Data Understanding"
      ],
      "metadata": {
        "id": "3EpRJ5cgABOb"
      }
    },
    {
      "cell_type": "markdown",
      "source": [
        "Dataset yang digunakan dalam proyek ini adalah **Board Games Dataset** yang diperoleh dari platform Kaggle. Dataset ini berisi informasi tentang ribuan board game yang diambil dari situs BoardGameGeek, dengan total lebih dari 19.000 data game yang telah diberi peringkat oleh komunitas pengguna. Dataset dapat diakses melalui tautan berikut: [Board Games Dataset](https://www.kaggle.com/datasets/melissamonfared/board-games)\n",
        "\n",
        "**Variabel-variabel pada dataset ini adalah sebagai berikut:**\n",
        "\n",
        "* **Board\\_Game\\_ID**: ID unik untuk setiap board game.\n",
        "* **Name**: Nama dari board game.\n",
        "* **Year\\_Published**: Tahun pertama kali game tersebut dirilis.\n",
        "* **Minimum\\_Number\\_of\\_Players**: Jumlah pemain minimum yang direkomendasikan.\n",
        "* **Maximum\\_Number\\_of\\_Players**: Jumlah pemain maksimum yang dapat bermain.\n",
        "* **Playing\\_Time**: Estimasi waktu rata-rata bermain (dalam menit).\n",
        "* **Recommended\\_Minimum\\_Age**: Usia minimum pemain yang direkomendasikan.\n",
        "* **Number\\_of\\_User\\_Ratings**: Jumlah total user yang telah memberikan rating terhadap game.\n",
        "* **Average\\_Rating**: Rata-rata nilai rating dari para pengguna.\n",
        "* **BGG\\_Rank**: Ranking board game berdasarkan komunitas BoardGameGeek.\n",
        "* **Average\\_Complexity**: Nilai rata-rata kompleksitas (semakin tinggi menunjukkan permainan yang lebih kompleks).\n",
        "* **Number\\_of\\_BGG\\_Registered\\_Owners**: Jumlah pengguna yang mengaku memiliki board game tersebut.\n",
        "* **Mechanics**: Mekanisme permainan yang digunakan dalam game (misalnya: dice rolling, area control).\n",
        "* **Domains**: Kategori game berdasarkan jenis atau tema (misalnya: strategy, party, thematic)."
      ],
      "metadata": {
        "id": "6o9_SxpIALOb"
      }
    },
    {
      "cell_type": "markdown",
      "source": [
        "### Memuat Dataset Board Game\n",
        "Pada tahap ini, dataset board game dimuat ke dalam notebook untuk dianalisis dan diproses lebih lanjut."
      ],
      "metadata": {
        "id": "88BY3dYmC_hv"
      }
    },
    {
      "cell_type": "code",
      "execution_count": 1,
      "metadata": {
        "id": "Ml9X5B2o7v8Y"
      },
      "outputs": [],
      "source": [
        "# Import Library\n",
        "import pandas as pd\n",
        "import numpy as np\n",
        "import matplotlib.pyplot as plt\n",
        "import seaborn as sns\n",
        "\n",
        "from sklearn.feature_extraction.text import TfidfVectorizer\n",
        "from sklearn.metrics.pairwise import cosine_similarity\n",
        "from sklearn.decomposition import TruncatedSVD"
      ]
    },
    {
      "cell_type": "code",
      "source": [
        "# Load Dataset\n",
        "df = pd.read_csv('/content/board_games.csv', encoding='latin1')"
      ],
      "metadata": {
        "id": "wNKdPcVEBQjb"
      },
      "execution_count": 2,
      "outputs": []
    },
    {
      "cell_type": "markdown",
      "source": [
        "### Eksplorasi Data\n",
        "Tahap ini bertujuan untuk memahami karakteristik dasar dari dataset. Misalnya, kita akan melihat distribusi rating, popularitas game, dan jumlah unik mechanics dan domain yang tersedia.\n",
        "Tahap ini juga akan melakukan pengecekan dengan:\n",
        "* Menampilkan 5 baris pertama untuk melihat data\n",
        "* Info data: jumlah baris, kolom, tipe data tiap kolom, dan jumlah non-null\n",
        "* Statistik deskriptif fitur numerik\n",
        "* Cek missing values per kolom\n",
        "* Visualisasi distribusi Average Rating\n",
        "* menghitung korelasi fitur numerik dan membuat heatmap\n",
        "* Visualisasi jumlah Board Games berdasarkan tahun terbit"
      ],
      "metadata": {
        "id": "XIMHlko3DE6N"
      }
    },
    {
      "cell_type": "code",
      "source": [
        "print(\"5 data teratas:\")\n",
        "print(df.head())"
      ],
      "metadata": {
        "colab": {
          "base_uri": "https://localhost:8080/"
        },
        "id": "J95m3bXmBkDI",
        "outputId": "6e78c880-8e9a-4f83-e9c7-7c9103b23c25"
      },
      "execution_count": 3,
      "outputs": [
        {
          "output_type": "stream",
          "name": "stdout",
          "text": [
            "5 data teratas:\n",
            "         ID                               Name  Year Published  Min Players  \\\n",
            "0  174430.0                         Gloomhaven          2017.0            1   \n",
            "1  161936.0          Pandemic Legacy: Season 1          2015.0            2   \n",
            "2  224517.0                  Brass: Birmingham          2018.0            2   \n",
            "3  167791.0                  Terraforming Mars          2016.0            1   \n",
            "4  233078.0  Twilight Imperium: Fourth Edition          2017.0            3   \n",
            "\n",
            "   Max Players  Play Time  Min Age  Users Rated  Rating Average  BGG Rank  \\\n",
            "0            4        120       14        42055            8.79         1   \n",
            "1            4         60       13        41643            8.61         2   \n",
            "2            4        120       14        19217            8.66         3   \n",
            "3            5        120       12        64864            8.43         4   \n",
            "4            6        480       14        13468            8.70         5   \n",
            "\n",
            "   Complexity Average  Owned Users  \\\n",
            "0                3.86      68323.0   \n",
            "1                2.84      65294.0   \n",
            "2                3.91      28785.0   \n",
            "3                3.24      87099.0   \n",
            "4                4.22      16831.0   \n",
            "\n",
            "                                           Mechanics  \\\n",
            "0  Action Queue, Action Retrieval, Campaign / Bat...   \n",
            "1  Action Points, Cooperative Game, Hand Manageme...   \n",
            "2  Hand Management, Income, Loans, Market, Networ...   \n",
            "3  Card Drafting, Drafting, End Game Bonuses, Han...   \n",
            "4  Action Drafting, Area Majority / Influence, Ar...   \n",
            "\n",
            "                          Domains  \n",
            "0  Strategy Games, Thematic Games  \n",
            "1  Strategy Games, Thematic Games  \n",
            "2                  Strategy Games  \n",
            "3                  Strategy Games  \n",
            "4  Strategy Games, Thematic Games  \n"
          ]
        }
      ]
    },
    {
      "cell_type": "code",
      "source": [
        "print(\"\\nInfo dataset:\")\n",
        "print(df.info())"
      ],
      "metadata": {
        "colab": {
          "base_uri": "https://localhost:8080/"
        },
        "id": "fRJVvbUPBmST",
        "outputId": "db225945-59c1-4333-a950-e48f84b3d874"
      },
      "execution_count": 4,
      "outputs": [
        {
          "output_type": "stream",
          "name": "stdout",
          "text": [
            "\n",
            "Info dataset:\n",
            "<class 'pandas.core.frame.DataFrame'>\n",
            "RangeIndex: 20343 entries, 0 to 20342\n",
            "Data columns (total 14 columns):\n",
            " #   Column              Non-Null Count  Dtype  \n",
            "---  ------              --------------  -----  \n",
            " 0   ID                  20327 non-null  float64\n",
            " 1   Name                20343 non-null  object \n",
            " 2   Year Published      20342 non-null  float64\n",
            " 3   Min Players         20343 non-null  int64  \n",
            " 4   Max Players         20343 non-null  int64  \n",
            " 5   Play Time           20343 non-null  int64  \n",
            " 6   Min Age             20343 non-null  int64  \n",
            " 7   Users Rated         20343 non-null  int64  \n",
            " 8   Rating Average      20343 non-null  float64\n",
            " 9   BGG Rank            20343 non-null  int64  \n",
            " 10  Complexity Average  20343 non-null  float64\n",
            " 11  Owned Users         20320 non-null  float64\n",
            " 12  Mechanics           18745 non-null  object \n",
            " 13  Domains             10184 non-null  object \n",
            "dtypes: float64(5), int64(6), object(3)\n",
            "memory usage: 2.2+ MB\n",
            "None\n"
          ]
        }
      ]
    },
    {
      "cell_type": "code",
      "source": [
        "print(\"\\nStatistik deskriptif:\")\n",
        "print(df.describe())"
      ],
      "metadata": {
        "colab": {
          "base_uri": "https://localhost:8080/"
        },
        "id": "MJ3clOY7Bn_B",
        "outputId": "cc113f8b-54df-4483-995c-ad8e9ea0eaac"
      },
      "execution_count": 5,
      "outputs": [
        {
          "output_type": "stream",
          "name": "stdout",
          "text": [
            "\n",
            "Statistik deskriptif:\n",
            "                  ID  Year Published   Min Players   Max Players  \\\n",
            "count   20327.000000    20342.000000  20343.000000  20343.000000   \n",
            "mean   108216.245142     1984.249877      2.019712      5.672221   \n",
            "std     98682.097298      214.003181      0.690366     15.231376   \n",
            "min         1.000000    -3500.000000      0.000000      0.000000   \n",
            "25%     11029.000000     2001.000000      2.000000      4.000000   \n",
            "50%     88931.000000     2011.000000      2.000000      4.000000   \n",
            "75%    192939.500000     2016.000000      2.000000      6.000000   \n",
            "max    331787.000000     2022.000000     10.000000    999.000000   \n",
            "\n",
            "          Play Time       Min Age    Users Rated  Rating Average  \\\n",
            "count  20343.000000  20343.000000   20343.000000    20343.000000   \n",
            "mean      91.294548      9.601485     840.971391        6.403227   \n",
            "std      545.447203      3.645458    3511.562220        0.935911   \n",
            "min        0.000000      0.000000      30.000000        1.050000   \n",
            "25%       30.000000      8.000000      55.000000        5.820000   \n",
            "50%       45.000000     10.000000     120.000000        6.430000   \n",
            "75%       90.000000     12.000000     385.000000        7.030000   \n",
            "max    60000.000000     25.000000  102214.000000        9.580000   \n",
            "\n",
            "           BGG Rank  Complexity Average    Owned Users  \n",
            "count  20343.000000        20343.000000   20320.000000  \n",
            "mean   10172.890429            1.991188    1408.457628  \n",
            "std     5872.831597            0.848903    5040.179315  \n",
            "min        1.000000            0.000000       0.000000  \n",
            "25%     5087.500000            1.330000     146.000000  \n",
            "50%    10173.000000            1.970000     309.000000  \n",
            "75%    15258.500000            2.540000     864.000000  \n",
            "max    20344.000000            5.000000  155312.000000  \n"
          ]
        }
      ]
    },
    {
      "cell_type": "code",
      "source": [
        "print(\"\\nMissing values per kolom:\")\n",
        "print(df.isnull().sum())"
      ],
      "metadata": {
        "colab": {
          "base_uri": "https://localhost:8080/"
        },
        "id": "ZoaaDsZkBpUF",
        "outputId": "924eba39-351a-4003-aa6e-db7c3e5d89cc"
      },
      "execution_count": 6,
      "outputs": [
        {
          "output_type": "stream",
          "name": "stdout",
          "text": [
            "\n",
            "Missing values per kolom:\n",
            "ID                       16\n",
            "Name                      0\n",
            "Year Published            1\n",
            "Min Players               0\n",
            "Max Players               0\n",
            "Play Time                 0\n",
            "Min Age                   0\n",
            "Users Rated               0\n",
            "Rating Average            0\n",
            "BGG Rank                  0\n",
            "Complexity Average        0\n",
            "Owned Users              23\n",
            "Mechanics              1598\n",
            "Domains               10159\n",
            "dtype: int64\n"
          ]
        }
      ]
    },
    {
      "cell_type": "markdown",
      "source": [
        "**Insight**:\n",
        "\n",
        "* Total data: 20.343 baris dengan 14 fitur utama.\n",
        "* Tahun terbit rata-rata: 1984, dengan beberapa nilai ekstrem (misal -3500).\n",
        "* Jumlah pemain: Min rata-rata 2, Max rata-rata 5 (ada outlier 999 yang mungkin berarti tidak ada batas maksimal pemainnya).\n",
        "* Durasi bermain rata-rata: 91 menit\n",
        "* Outlier pada fitur *Play Time* (60.000 menit) berasal dari game **\"The Campaign for North Africa\"**, yang memang dirancang untuk dimainkan selama **berbulan-bulan**. Ini bukan kesalahan data, tapi representasi akurat dari game tersebut. [Referensi BGG](https://boardgamegeek.com/boardgame/4815/the-campaign-for-north-africa-the-desert-war-1940)\n",
        "* Rating rata-rata game: 6.4 dengan kompleksitas rata-rata 2.\n",
        "* Missing values signifikan pada fitur *Mechanics* (1.598) dan *Domains* (10.159).\n",
        "* Contoh game populer: *Gloomhaven* (rating 8.79, durasi 120 menit, kompleksitas 3.86).\n"
      ],
      "metadata": {
        "id": "zQRh5lF8Ds8M"
      }
    },
    {
      "cell_type": "code",
      "source": [
        "plt.figure(figsize=(8,4))\n",
        "sns.histplot(df['Rating Average'], bins=30, kde=True)\n",
        "plt.title('Distribusi Average Rating Board Games')\n",
        "plt.xlabel('Average Rating')\n",
        "plt.ylabel('Frequency')\n",
        "plt.show()"
      ],
      "metadata": {
        "colab": {
          "base_uri": "https://localhost:8080/",
          "height": 410
        },
        "id": "dOKXwpMgBq42",
        "outputId": "758abe71-a927-4451-917f-9075b4f8b43d"
      },
      "execution_count": 7,
      "outputs": [
        {
          "output_type": "display_data",
          "data": {
            "text/plain": [
              "<Figure size 800x400 with 1 Axes>"
            ],
            "image/png": "[encoded data removed]"
          },
          "metadata": {}
        }
      ]
    },
    {
      "cell_type": "code",
      "source": [
        "numerical_cols = df.select_dtypes(include=['number'])\n",
        "\n",
        "plt.figure(figsize=(10,8))\n",
        "sns.heatmap(numerical_cols.corr(), annot=True, fmt='.2f', cmap='coolwarm')\n",
        "plt.title('Heatmap Korelasi Fitur Numerik')\n",
        "plt.show()"
      ],
      "metadata": {
        "colab": {
          "base_uri": "https://localhost:8080/",
          "height": 825
        },
        "id": "amKbA9-UBviF",
        "outputId": "c5a9233a-3ba4-4812-dea3-fbb1d1a65eee"
      },
      "execution_count": 8,
      "outputs": [
        {
          "output_type": "display_data",
          "data": {
            "text/plain": [
              "<Figure size 1000x800 with 2 Axes>"
            ],
            "image/png": "[encoded data removed]"
          },
          "metadata": {}
        }
      ]
    },
    {
      "cell_type": "code",
      "source": [
        "plt.figure(figsize=(12,5))\n",
        "sns.countplot(x='Year Published', data=df, palette='viridis', order=df['Year Published'].value_counts().index[:20])\n",
        "plt.xticks(rotation=90)\n",
        "plt.title('Jumlah Board Games Berdasarkan Tahun Terbit (Top 20 Tahun)')\n",
        "plt.show()"
      ],
      "metadata": {
        "colab": {
          "base_uri": "https://localhost:8080/",
          "height": 608
        },
        "id": "OdhMHY9YBx_Q",
        "outputId": "16900cfa-eddc-49c1-c6d9-1d92c6419b05"
      },
      "execution_count": 9,
      "outputs": [
        {
          "output_type": "stream",
          "name": "stderr",
          "text": [
            "<ipython-input-9-db3114464ddb>:2: FutureWarning: \n",
            "\n",
            "Passing `palette` without assigning `hue` is deprecated and will be removed in v0.14.0. Assign the `x` variable to `hue` and set `legend=False` for the same effect.\n",
            "\n",
            "  sns.countplot(x='Year Published', data=df, palette='viridis', order=df['Year Published'].value_counts().index[:20])\n"
          ]
        },
        {
          "output_type": "display_data",
          "data": {
            "text/plain": [
              "<Figure size 1200x500 with 1 Axes>"
            ],
            "image/png": "[encoded data removed]"
          },
          "metadata": {}
        }
      ]
    },
    {
      "cell_type": "markdown",
      "source": [
        "**Insight**:\n",
        "\n",
        "  * Game dengan rating di bawah 4 sangat jarang.\n",
        "  * Frekuensi meningkat signifikan mulai dari rating 5 hingga puncaknya di **rating 6–7**.\n",
        "  * Setelah rating 8, frekuensi mulai menurun dan nyaris datar hingga rating 10.\n",
        "  * Korelasi tertinggi adalah antara **Users Rated dan Owned Users** (**0.99**), artinya game yang dimiliki banyak orang cenderung mendapat lebih banyak rating.\n",
        "  * Korelasi terendah adalah antara **BGG Rank dan Rating Average** (**-0.74**), artinya semakin tinggi rating suatu game, semakin rendah (lebih baik) ranking-nya di situs BGG.\n",
        "  * Tahun dengan jumlah game terbanyak:\n",
        "    * **>1200 game**: 2016, 2017, 2018\n",
        "    * **>1000 game**: 2014, 2015, 2019\n",
        "    * **>800 game**: 2010–2013, 2020\n",
        "    * **>600 game**: 2003–2009\n",
        "    * **>400 game**: 2001, 2002\n",
        "  * Terlihat bahwa rilis board game mengalami lonjakan signifikan sejak **awal 2010-an**, menunjukkan tren pertumbuhan industri game fisik selama dekade terakhir."
      ],
      "metadata": {
        "id": "NVo_nYqlcpg4"
      }
    },
    {
      "cell_type": "markdown",
      "source": [
        "## Data Preparation"
      ],
      "metadata": {
        "id": "pQ1Ltq9Md-Nm"
      }
    },
    {
      "cell_type": "markdown",
      "source": [
        "Pada tahap Data Preparation, langkah-langkah yang dilakukan adalah sebagai berikut:\n",
        "1. **Menghapus Data Kosong pada Kolom Kritis**\n",
        "2. **Menangani Missing Values**\n",
        "3. **Filter Data Berdasarkan Popularitas**\n",
        "4. **Transformasi Fitur Teks**\n",
        "5. **Seleksi Fitur**\n",
        "6. **Menggabungkan Fitur & Transformasi TF-IDF**"
      ],
      "metadata": {
        "id": "MeAAamyde9r4"
      }
    },
    {
      "cell_type": "markdown",
      "source": [
        "#### 1. Menghapus Data Kosong pada Kolom Kritis\n",
        "\n",
        "* **Kolom yang dihapus:**\n",
        "\n",
        "  * `ID`: karena hanya berfungsi sebagai identifier dan memiliki nilai kosong.\n",
        "  * `Year Published`: terdapat 1 nilai kosong yang dihapus untuk menghindari error saat analisis waktu.\n",
        "* **Alasan:** Nilai kosong pada kolom-kolom tersebut dapat mengganggu proses analisis dan tidak memiliki nilai informasi tambahan."
      ],
      "metadata": {
        "id": "sToaP6Bgfb0L"
      }
    },
    {
      "cell_type": "code",
      "source": [
        "df = df.dropna(subset=['ID', 'Year Published'])"
      ],
      "metadata": {
        "id": "sG9OAutWfbaz"
      },
      "execution_count": 10,
      "outputs": []
    },
    {
      "cell_type": "markdown",
      "source": [
        "#### 2. Menangani Missing Values\n",
        "\n",
        "* **Kolom `Owned Users`** diisi menggunakan nilai **median** karena memiliki distribusi yang tidak normal (skewed).\n",
        "* **Kolom teks `Mechanics` dan `Domains`** yang memiliki banyak nilai kosong diisi dengan string `'Unknown'`.\n",
        "* **Alasan:**\n",
        "\n",
        "  * Median lebih tahan terhadap outlier dibanding mean.\n",
        "  * Pengisian `'Unknown'` memungkinkan tetap memproses fitur teks tersebut dalam model berbasis konten."
      ],
      "metadata": {
        "id": "DhN5m_XrflWm"
      }
    },
    {
      "cell_type": "code",
      "source": [
        "df['Owned Users'].fillna(df['Owned Users'].median(), inplace=True)\n",
        "df['Mechanics'].fillna('unknown', inplace=True)\n",
        "df['Domains'].fillna('unknown', inplace=True)"
      ],
      "metadata": {
        "colab": {
          "base_uri": "https://localhost:8080/"
        },
        "id": "lqxSF9o8dmjo",
        "outputId": "311f7040-a3b0-472d-a4e0-98ac2a7db353"
      },
      "execution_count": 11,
      "outputs": [
        {
          "output_type": "stream",
          "name": "stderr",
          "text": [
            "<ipython-input-11-1a4eb050e74e>:1: FutureWarning: A value is trying to be set on a copy of a DataFrame or Series through chained assignment using an inplace method.\n",
            "The behavior will change in pandas 3.0. This inplace method will never work because the intermediate object on which we are setting values always behaves as a copy.\n",
            "\n",
            "For example, when doing 'df[col].method(value, inplace=True)', try using 'df.method({col: value}, inplace=True)' or df[col] = df[col].method(value) instead, to perform the operation inplace on the original object.\n",
            "\n",
            "\n",
            "  df['Owned Users'].fillna(df['Owned Users'].median(), inplace=True)\n",
            "<ipython-input-11-1a4eb050e74e>:1: SettingWithCopyWarning: \n",
            "A value is trying to be set on a copy of a slice from a DataFrame\n",
            "\n",
            "See the caveats in the documentation: https://pandas.pydata.org/pandas-docs/stable/user_guide/indexing.html#returning-a-view-versus-a-copy\n",
            "  df['Owned Users'].fillna(df['Owned Users'].median(), inplace=True)\n",
            "<ipython-input-11-1a4eb050e74e>:2: FutureWarning: A value is trying to be set on a copy of a DataFrame or Series through chained assignment using an inplace method.\n",
            "The behavior will change in pandas 3.0. This inplace method will never work because the intermediate object on which we are setting values always behaves as a copy.\n",
            "\n",
            "For example, when doing 'df[col].method(value, inplace=True)', try using 'df.method({col: value}, inplace=True)' or df[col] = df[col].method(value) instead, to perform the operation inplace on the original object.\n",
            "\n",
            "\n",
            "  df['Mechanics'].fillna('unknown', inplace=True)\n",
            "<ipython-input-11-1a4eb050e74e>:2: SettingWithCopyWarning: \n",
            "A value is trying to be set on a copy of a slice from a DataFrame\n",
            "\n",
            "See the caveats in the documentation: https://pandas.pydata.org/pandas-docs/stable/user_guide/indexing.html#returning-a-view-versus-a-copy\n",
            "  df['Mechanics'].fillna('unknown', inplace=True)\n",
            "<ipython-input-11-1a4eb050e74e>:3: FutureWarning: A value is trying to be set on a copy of a DataFrame or Series through chained assignment using an inplace method.\n",
            "The behavior will change in pandas 3.0. This inplace method will never work because the intermediate object on which we are setting values always behaves as a copy.\n",
            "\n",
            "For example, when doing 'df[col].method(value, inplace=True)', try using 'df.method({col: value}, inplace=True)' or df[col] = df[col].method(value) instead, to perform the operation inplace on the original object.\n",
            "\n",
            "\n",
            "  df['Domains'].fillna('unknown', inplace=True)\n",
            "<ipython-input-11-1a4eb050e74e>:3: SettingWithCopyWarning: \n",
            "A value is trying to be set on a copy of a slice from a DataFrame\n",
            "\n",
            "See the caveats in the documentation: https://pandas.pydata.org/pandas-docs/stable/user_guide/indexing.html#returning-a-view-versus-a-copy\n",
            "  df['Domains'].fillna('unknown', inplace=True)\n"
          ]
        }
      ]
    },
    {
      "cell_type": "markdown",
      "source": [
        "#### 3. Filter Data Berdasarkan Popularitas\n",
        "\n",
        "* **Syarat:** Hanya board game dengan minimal **50 user ratings** yang dipertahankan.\n",
        "* **Alasan:** Untuk menjaga kualitas rekomendasi dengan hanya menyertakan game yang memiliki cukup banyak interaksi pengguna."
      ],
      "metadata": {
        "id": "IgoKXHwZfqrv"
      }
    },
    {
      "cell_type": "code",
      "source": [
        "df = df[df['Users Rated'] > 50]"
      ],
      "metadata": {
        "id": "WW6BR4BQfuzQ"
      },
      "execution_count": 12,
      "outputs": []
    },
    {
      "cell_type": "markdown",
      "source": [
        "#### 4. Transformasi Fitur Teks\n",
        "\n",
        "* Kolom `Mechanics` dan `Domains` diproses menjadi format **list of strings** dan dinormalisasi (lowercase, hapus spasi ekstra).\n",
        "* **Alasan:** Fitur ini akan digunakan sebagai dasar pembentukan *content representation* dengan metode TF-IDF atau similaritas lainnya.\n"
      ],
      "metadata": {
        "id": "SkMKBm-Qfvox"
      }
    },
    {
      "cell_type": "code",
      "source": [
        "def clean_text_to_list(text):\n",
        "    if pd.isna(text) or text == 'unknown':\n",
        "        return []\n",
        "    return [x.strip().lower() for x in text.split(',')]\n",
        "\n",
        "df['Mechanics'] = df['Mechanics'].apply(clean_text_to_list)\n",
        "df['Domains'] = df['Domains'].apply(clean_text_to_list)"
      ],
      "metadata": {
        "id": "sHT5Ox6sfzFc"
      },
      "execution_count": 13,
      "outputs": []
    },
    {
      "cell_type": "markdown",
      "source": [
        "#### 5. Seleksi Fitur\n",
        "\n",
        "* **Fitur yang dipertahankan:**\n",
        "\n",
        "  * `Name`, `Rating Average`, `Complexity Average`, `Year Published`, `Min Players`, `Max Players`, `Play Time`, `Mechanics`, `Domains`\n",
        "* **Fitur yang dihapus:**\n",
        "\n",
        "  * `ID`, `BGG Rank`, `Users Rated`\n",
        "* **Alasan:** Hanya fitur-fitur yang relevan untuk sistem rekomendasi berbasis konten yang dipertahankan."
      ],
      "metadata": {
        "id": "mtdZZHabfzZZ"
      }
    },
    {
      "cell_type": "code",
      "source": [
        "selected_features = [\n",
        "    'Name', 'Rating Average', 'Complexity Average', 'Year Published',\n",
        "    'Min Players', 'Max Players', 'Play Time', 'Mechanics', 'Domains'\n",
        "]\n",
        "\n",
        "# Membuat DataFrame baru hanya dengan fitur yang dipilih\n",
        "df_selected = df[selected_features].copy()\n",
        "\n",
        "# Cek data hasil seleksi\n",
        "df_selected.head()"
      ],
      "metadata": {
        "colab": {
          "base_uri": "https://localhost:8080/",
          "height": 310
        },
        "id": "kD0gZBRyf2EC",
        "outputId": "a2ef6ff0-7a80-4493-cc68-45a32fd24aa5"
      },
      "execution_count": 14,
      "outputs": [
        {
          "output_type": "execute_result",
          "data": {
            "text/plain": [
              "                                Name  Rating Average  Complexity Average  \\\n",
              "0                         Gloomhaven            8.79                3.86   \n",
              "1          Pandemic Legacy: Season 1            8.61                2.84   \n",
              "2                  Brass: Birmingham            8.66                3.91   \n",
              "3                  Terraforming Mars            8.43                3.24   \n",
              "4  Twilight Imperium: Fourth Edition            8.70                4.22   \n",
              "\n",
              "   Year Published  Min Players  Max Players  Play Time  \\\n",
              "0          2017.0            1            4        120   \n",
              "1          2015.0            2            4         60   \n",
              "2          2018.0            2            4        120   \n",
              "3          2016.0            1            5        120   \n",
              "4          2017.0            3            6        480   \n",
              "\n",
              "                                           Mechanics  \\\n",
              "0  [action queue, action retrieval, campaign / ba...   \n",
              "1  [action points, cooperative game, hand managem...   \n",
              "2  [hand management, income, loans, market, netwo...   \n",
              "3  [card drafting, drafting, end game bonuses, ha...   \n",
              "4  [action drafting, area majority / influence, a...   \n",
              "\n",
              "                            Domains  \n",
              "0  [strategy games, thematic games]  \n",
              "1  [strategy games, thematic games]  \n",
              "2                  [strategy games]  \n",
              "3                  [strategy games]  \n",
              "4  [strategy games, thematic games]  "
            ],
            "text/html": [
              "\n",
              "  <div id=\"df-b7c1a344-9590-4dbc-992d-6db4076cbc26\" class=\"colab-df-container\">\n",
              "    <div>\n",
              "<style scoped>\n",
              "    .dataframe tbody tr th:only-of-type {\n",
              "        vertical-align: middle;\n",
              "    }\n",
              "\n",
              "    .dataframe tbody tr th {\n",
              "        vertical-align: top;\n",
              "    }\n",
              "\n",
              "    .dataframe thead th {\n",
              "        text-align: right;\n",
              "    }\n",
              "</style>\n",
              "<table border=\"1\" class=\"dataframe\">\n",
              "  <thead>\n",
              "    <tr style=\"text-align: right;\">\n",
              "      <th></th>\n",
              "      <th>Name</th>\n",
              "      <th>Rating Average</th>\n",
              "      <th>Complexity Average</th>\n",
              "      <th>Year Published</th>\n",
              "      <th>Min Players</th>\n",
              "      <th>Max Players</th>\n",
              "      <th>Play Time</th>\n",
              "      <th>Mechanics</th>\n",
              "      <th>Domains</th>\n",
              "    </tr>\n",
              "  </thead>\n",
              "  <tbody>\n",
              "    <tr>\n",
              "      <th>0</th>\n",
              "      <td>Gloomhaven</td>\n",
              "      <td>8.79</td>\n",
              "      <td>3.86</td>\n",
              "      <td>2017.0</td>\n",
              "      <td>1</td>\n",
              "      <td>4</td>\n",
              "      <td>120</td>\n",
              "      <td>[action queue, action retrieval, campaign / ba...</td>\n",
              "      <td>[strategy games, thematic games]</td>\n",
              "    </tr>\n",
              "    <tr>\n",
              "      <th>1</th>\n",
              "      <td>Pandemic Legacy: Season 1</td>\n",
              "      <td>8.61</td>\n",
              "      <td>2.84</td>\n",
              "      <td>2015.0</td>\n",
              "      <td>2</td>\n",
              "      <td>4</td>\n",
              "      <td>60</td>\n",
              "      <td>[action points, cooperative game, hand managem...</td>\n",
              "      <td>[strategy games, thematic games]</td>\n",
              "    </tr>\n",
              "    <tr>\n",
              "      <th>2</th>\n",
              "      <td>Brass: Birmingham</td>\n",
              "      <td>8.66</td>\n",
              "      <td>3.91</td>\n",
              "      <td>2018.0</td>\n",
              "      <td>2</td>\n",
              "      <td>4</td>\n",
              "      <td>120</td>\n",
              "      <td>[hand management, income, loans, market, netwo...</td>\n",
              "      <td>[strategy games]</td>\n",
              "    </tr>\n",
              "    <tr>\n",
              "      <th>3</th>\n",
              "      <td>Terraforming Mars</td>\n",
              "      <td>8.43</td>\n",
              "      <td>3.24</td>\n",
              "      <td>2016.0</td>\n",
              "      <td>1</td>\n",
              "      <td>5</td>\n",
              "      <td>120</td>\n",
              "      <td>[card drafting, drafting, end game bonuses, ha...</td>\n",
              "      <td>[strategy games]</td>\n",
              "    </tr>\n",
              "    <tr>\n",
              "      <th>4</th>\n",
              "      <td>Twilight Imperium: Fourth Edition</td>\n",
              "      <td>8.70</td>\n",
              "      <td>4.22</td>\n",
              "      <td>2017.0</td>\n",
              "      <td>3</td>\n",
              "      <td>6</td>\n",
              "      <td>480</td>\n",
              "      <td>[action drafting, area majority / influence, a...</td>\n",
              "      <td>[strategy games, thematic games]</td>\n",
              "    </tr>\n",
              "  </tbody>\n",
              "</table>\n",
              "</div>\n",
              "    <div class=\"colab-df-buttons\">\n",
              "\n",
              "  <div class=\"colab-df-container\">\n",
              "    <button class=\"colab-df-convert\" onclick=\"convertToInteractive('df-b7c1a344-9590-4dbc-992d-6db4076cbc26')\"\n",
              "            title=\"Convert this dataframe to an interactive table.\"\n",
              "            style=\"display:none;\">\n",
              "\n",
              "  <svg xmlns=\"http://www.w3.org/2000/svg\" height=\"24px\" viewBox=\"0 -960 960 960\">\n",
              "    <path d=\"M120-120v-720h720v720H120Zm60-500h600v-160H180v160Zm220 220h160v-160H400v160Zm0 220h160v-160H400v160ZM180-400h160v-160H180v160Zm440 0h160v-160H620v160ZM180-180h160v-160H180v160Zm440 0h160v-160H620v160Z\"/>\n",
              "  </svg>\n",
              "    </button>\n",
              "\n",
              "  <style>\n",
              "    .colab-df-container {\n",
              "      display:flex;\n",
              "      gap: 12px;\n",
              "    }\n",
              "\n",
              "    .colab-df-convert {\n",
              "      background-color: #E8F0FE;\n",
              "      border: none;\n",
              "      border-radius: 50%;\n",
              "      cursor: pointer;\n",
              "      display: none;\n",
              "      fill: #1967D2;\n",
              "      height: 32px;\n",
              "      padding: 0 0 0 0;\n",
              "      width: 32px;\n",
              "    }\n",
              "\n",
              "    .colab-df-convert:hover {\n",
              "      background-color: #E2EBFA;\n",
              "      box-shadow: 0px 1px 2px rgba(60, 64, 67, 0.3), 0px 1px 3px 1px rgba(60, 64, 67, 0.15);\n",
              "      fill: #174EA6;\n",
              "    }\n",
              "\n",
              "    .colab-df-buttons div {\n",
              "      margin-bottom: 4px;\n",
              "    }\n",
              "\n",
              "    [theme=dark] .colab-df-convert {\n",
              "      background-color: #3B4455;\n",
              "      fill: #D2E3FC;\n",
              "    }\n",
              "\n",
              "    [theme=dark] .colab-df-convert:hover {\n",
              "      background-color: #434B5C;\n",
              "      box-shadow: 0px 1px 3px 1px rgba(0, 0, 0, 0.15);\n",
              "      filter: drop-shadow(0px 1px 2px rgba(0, 0, 0, 0.3));\n",
              "      fill: #FFFFFF;\n",
              "    }\n",
              "  </style>\n",
              "\n",
              "    <script>\n",
              "      const buttonEl =\n",
              "        document.querySelector('#df-b7c1a344-9590-4dbc-992d-6db4076cbc26 button.colab-df-convert');\n",
              "      buttonEl.style.display =\n",
              "        google.colab.kernel.accessAllowed ? 'block' : 'none';\n",
              "\n",
              "      async function convertToInteractive(key) {\n",
              "        const element = document.querySelector('#df-b7c1a344-9590-4dbc-992d-6db4076cbc26');\n",
              "        const dataTable =\n",
              "          await google.colab.kernel.invokeFunction('convertToInteractive',\n",
              "                                                    [key], {});\n",
              "        if (!dataTable) return;\n",
              "\n",
              "        const docLinkHtml = 'Like what you see? Visit the ' +\n",
              "          '<a target=\"_blank\" href=https://colab.research.google.com/notebooks/data_table.ipynb>data table notebook</a>'\n",
              "          + ' to learn more about interactive tables.';\n",
              "        element.innerHTML = '';\n",
              "        dataTable['output_type'] = 'display_data';\n",
              "        await google.colab.output.renderOutput(dataTable, element);\n",
              "        const docLink = document.createElement('div');\n",
              "        docLink.innerHTML = docLinkHtml;\n",
              "        element.appendChild(docLink);\n",
              "      }\n",
              "    </script>\n",
              "  </div>\n",
              "\n",
              "\n",
              "    <div id=\"df-948b28a5-b301-4e7c-ab6c-f8b256428af8\">\n",
              "      <button class=\"colab-df-quickchart\" onclick=\"quickchart('df-948b28a5-b301-4e7c-ab6c-f8b256428af8')\"\n",
              "                title=\"Suggest charts\"\n",
              "                style=\"display:none;\">\n",
              "\n",
              "<svg xmlns=\"http://www.w3.org/2000/svg\" height=\"24px\"viewBox=\"0 0 24 24\"\n",
              "     width=\"24px\">\n",
              "    <g>\n",
              "        <path d=\"M19 3H5c-1.1 0-2 .9-2 2v14c0 1.1.9 2 2 2h14c1.1 0 2-.9 2-2V5c0-1.1-.9-2-2-2zM9 17H7v-7h2v7zm4 0h-2V7h2v10zm4 0h-2v-4h2v4z\"/>\n",
              "    </g>\n",
              "</svg>\n",
              "      </button>\n",
              "\n",
              "<style>\n",
              "  .colab-df-quickchart {\n",
              "      --bg-color: #E8F0FE;\n",
              "      --fill-color: #1967D2;\n",
              "      --hover-bg-color: #E2EBFA;\n",
              "      --hover-fill-color: #174EA6;\n",
              "      --disabled-fill-color: #AAA;\n",
              "      --disabled-bg-color: #DDD;\n",
              "  }\n",
              "\n",
              "  [theme=dark] .colab-df-quickchart {\n",
              "      --bg-color: #3B4455;\n",
              "      --fill-color: #D2E3FC;\n",
              "      --hover-bg-color: #434B5C;\n",
              "      --hover-fill-color: #FFFFFF;\n",
              "      --disabled-bg-color: #3B4455;\n",
              "      --disabled-fill-color: #666;\n",
              "  }\n",
              "\n",
              "  .colab-df-quickchart {\n",
              "    background-color: var(--bg-color);\n",
              "    border: none;\n",
              "    border-radius: 50%;\n",
              "    cursor: pointer;\n",
              "    display: none;\n",
              "    fill: var(--fill-color);\n",
              "    height: 32px;\n",
              "    padding: 0;\n",
              "    width: 32px;\n",
              "  }\n",
              "\n",
              "  .colab-df-quickchart:hover {\n",
              "    background-color: var(--hover-bg-color);\n",
              "    box-shadow: 0 1px 2px rgba(60, 64, 67, 0.3), 0 1px 3px 1px rgba(60, 64, 67, 0.15);\n",
              "    fill: var(--button-hover-fill-color);\n",
              "  }\n",
              "\n",
              "  .colab-df-quickchart-complete:disabled,\n",
              "  .colab-df-quickchart-complete:disabled:hover {\n",
              "    background-color: var(--disabled-bg-color);\n",
              "    fill: var(--disabled-fill-color);\n",
              "    box-shadow: none;\n",
              "  }\n",
              "\n",
              "  .colab-df-spinner {\n",
              "    border: 2px solid var(--fill-color);\n",
              "    border-color: transparent;\n",
              "    border-bottom-color: var(--fill-color);\n",
              "    animation:\n",
              "      spin 1s steps(1) infinite;\n",
              "  }\n",
              "\n",
              "  @keyframes spin {\n",
              "    0% {\n",
              "      border-color: transparent;\n",
              "      border-bottom-color: var(--fill-color);\n",
              "      border-left-color: var(--fill-color);\n",
              "    }\n",
              "    20% {\n",
              "      border-color: transparent;\n",
              "      border-left-color: var(--fill-color);\n",
              "      border-top-color: var(--fill-color);\n",
              "    }\n",
              "    30% {\n",
              "      border-color: transparent;\n",
              "      border-left-color: var(--fill-color);\n",
              "      border-top-color: var(--fill-color);\n",
              "      border-right-color: var(--fill-color);\n",
              "    }\n",
              "    40% {\n",
              "      border-color: transparent;\n",
              "      border-right-color: var(--fill-color);\n",
              "      border-top-color: var(--fill-color);\n",
              "    }\n",
              "    60% {\n",
              "      border-color: transparent;\n",
              "      border-right-color: var(--fill-color);\n",
              "    }\n",
              "    80% {\n",
              "      border-color: transparent;\n",
              "      border-right-color: var(--fill-color);\n",
              "      border-bottom-color: var(--fill-color);\n",
              "    }\n",
              "    90% {\n",
              "      border-color: transparent;\n",
              "      border-bottom-color: var(--fill-color);\n",
              "    }\n",
              "  }\n",
              "</style>\n",
              "\n",
              "      <script>\n",
              "        async function quickchart(key) {\n",
              "          const quickchartButtonEl =\n",
              "            document.querySelector('#' + key + ' button');\n",
              "          quickchartButtonEl.disabled = true;  // To prevent multiple clicks.\n",
              "          quickchartButtonEl.classList.add('colab-df-spinner');\n",
              "          try {\n",
              "            const charts = await google.colab.kernel.invokeFunction(\n",
              "                'suggestCharts', [key], {});\n",
              "          } catch (error) {\n",
              "            console.error('Error during call to suggestCharts:', error);\n",
              "          }\n",
              "          quickchartButtonEl.classList.remove('colab-df-spinner');\n",
              "          quickchartButtonEl.classList.add('colab-df-quickchart-complete');\n",
              "        }\n",
              "        (() => {\n",
              "          let quickchartButtonEl =\n",
              "            document.querySelector('#df-948b28a5-b301-4e7c-ab6c-f8b256428af8 button');\n",
              "          quickchartButtonEl.style.display =\n",
              "            google.colab.kernel.accessAllowed ? 'block' : 'none';\n",
              "        })();\n",
              "      </script>\n",
              "    </div>\n",
              "\n",
              "    </div>\n",
              "  </div>\n"
            ],
            "application/vnd.google.colaboratory.intrinsic+json": {
              "type": "dataframe",
              "variable_name": "df_selected",
              "summary": "{\n  \"name\": \"df_selected\",\n  \"rows\": 15921,\n  \"fields\": [\n    {\n      \"column\": \"Name\",\n      \"properties\": {\n        \"dtype\": \"string\",\n        \"num_unique_values\": 15671,\n        \"samples\": [\n          \"Escalation!\",\n          \"Fantasy Pub\",\n          \"D-Day at Iwo Jima\"\n        ],\n        \"semantic_type\": \"\",\n        \"description\": \"\"\n      }\n    },\n    {\n      \"column\": \"Rating Average\",\n      \"properties\": {\n        \"dtype\": \"number\",\n        \"std\": 0.8860669582594025,\n        \"min\": 1.05,\n        \"max\": 9.54,\n        \"num_unique_values\": 573,\n        \"samples\": [\n          3.74,\n          7.64,\n          7.96\n        ],\n        \"semantic_type\": \"\",\n        \"description\": \"\"\n      }\n    },\n    {\n      \"column\": \"Complexity Average\",\n      \"properties\": {\n        \"dtype\": \"number\",\n        \"std\": 0.8165867370270403,\n        \"min\": 0.0,\n        \"max\": 4.93,\n        \"num_unique_values\": 377,\n        \"samples\": [\n          1.4,\n          1.79,\n          2.55\n        ],\n        \"semantic_type\": \"\",\n        \"description\": \"\"\n      }\n    },\n    {\n      \"column\": \"Year Published\",\n      \"properties\": {\n        \"dtype\": \"number\",\n        \"std\": 186.266726754825,\n        \"min\": -3500.0,\n        \"max\": 2021.0,\n        \"num_unique_values\": 179,\n        \"samples\": [\n          1946.0,\n          2010.0,\n          1938.0\n        ],\n        \"semantic_type\": \"\",\n        \"description\": \"\"\n      }\n    },\n    {\n      \"column\": \"Min Players\",\n      \"properties\": {\n        \"dtype\": \"number\",\n        \"std\": 0,\n        \"min\": 0,\n        \"max\": 10,\n        \"num_unique_values\": 11,\n        \"samples\": [\n          6,\n          1,\n          9\n        ],\n        \"semantic_type\": \"\",\n        \"description\": \"\"\n      }\n    },\n    {\n      \"column\": \"Max Players\",\n      \"properties\": {\n        \"dtype\": \"number\",\n        \"std\": 16,\n        \"min\": 0,\n        \"max\": 999,\n        \"num_unique_values\": 50,\n        \"samples\": [\n          18,\n          40,\n          33\n        ],\n        \"semantic_type\": \"\",\n        \"description\": \"\"\n      }\n    },\n    {\n      \"column\": \"Play Time\",\n      \"properties\": {\n        \"dtype\": \"number\",\n        \"std\": 606,\n        \"min\": 0,\n        \"max\": 60000,\n        \"num_unique_values\": 110,\n        \"samples\": [\n          160,\n          70,\n          240\n        ],\n        \"semantic_type\": \"\",\n        \"description\": \"\"\n      }\n    },\n    {\n      \"column\": \"Mechanics\",\n      \"properties\": {\n        \"dtype\": \"object\",\n        \"semantic_type\": \"\",\n        \"description\": \"\"\n      }\n    },\n    {\n      \"column\": \"Domains\",\n      \"properties\": {\n        \"dtype\": \"object\",\n        \"semantic_type\": \"\",\n        \"description\": \"\"\n      }\n    }\n  ]\n}"
            }
          },
          "metadata": {},
          "execution_count": 14
        }
      ]
    },
    {
      "cell_type": "markdown",
      "source": [
        "#### 6. Menggabungkan Fitur & Transformasi TF-IDF\n",
        "\n",
        "* Fitur `Mechanics` dan `Domains` digabungkan menjadi satu kolom baru bernama `Combined_Features`.\n",
        "* Kemudian, dilakukan proses TF-IDF Vectorization untuk mengubah teks gabungan menjadi representasi numerik yang dapat digunakan untuk perhitungan similaritas."
      ],
      "metadata": {
        "id": "X0nLhk52I81v"
      }
    },
    {
      "cell_type": "code",
      "source": [
        "df_selected['Combined_Features'] = df_selected['Mechanics'].str.join(' ') + ' ' + df_selected['Domains'].str.join(' ')\n",
        "\n",
        "tfidf = TfidfVectorizer(max_features=5000)\n",
        "\n",
        "tfidf_matrix = tfidf.fit_transform(df_selected['Combined_Features'])"
      ],
      "metadata": {
        "id": "DzFc8FfrI9Hw"
      },
      "execution_count": 15,
      "outputs": []
    },
    {
      "cell_type": "markdown",
      "source": [
        "## Modeling & Result"
      ],
      "metadata": {
        "id": "AUnrAAkihnx-"
      }
    },
    {
      "cell_type": "markdown",
      "source": [
        "**1. Content-Based Filtering dengan TF-IDF dan Cosine Similarity**\n",
        "\n",
        "**Penjelasan Konsep**:\n",
        "Content-Based Filtering merekomendasikan item berdasarkan kemiripan fitur kontennya. Pada kasus ini, kami memanfaatkan kolom `Mechanics` dan `Domains` yang berisi deskripsi mekanik dan tema game. Kedua kolom tersebut digabung menjadi satu teks per game, lalu diubah menjadi representasi vektor menggunakan TF-IDF Vectorizer (yang sudah dilakukan di tahap data preparation). Kemudian, kemiripan antar game dihitung menggunakan cosine similarity. Game dengan kemiripan tertinggi akan direkomendasikan.\n",
        "\n",
        "**Parameter Penting**:\n",
        "* `top_n` menentukan berapa banyak rekomendasi yang akan ditampilkan."
      ],
      "metadata": {
        "id": "RfzvE6kphqne"
      }
    },
    {
      "cell_type": "code",
      "source": [
        "# Hitung cosine similarity antar game\n",
        "cosine_sim = cosine_similarity(tfidf_matrix, tfidf_matrix)\n",
        "\n",
        "# Fungsi untuk rekomendasi top-N game mirip berdasarkan index game\n",
        "def recommend_games_content_based(game_index, top_n=10):\n",
        "    sim_scores = list(enumerate(cosine_sim[game_index]))\n",
        "    sim_scores = sorted(sim_scores, key=lambda x: x[1], reverse=True)\n",
        "    sim_scores = sim_scores[1:top_n+1]  # exclude game itu sendiri\n",
        "    game_indices = [i[0] for i in sim_scores]\n",
        "    return df_selected.iloc[game_indices][['Name', 'Rating Average', 'Complexity Average']]\n",
        "\n",
        "# Contoh rekomendasi 5 game mirip untuk game index 0 (Gloomhaven)\n",
        "recommend_games_content_based(0, top_n=5)"
      ],
      "metadata": {
        "colab": {
          "base_uri": "https://localhost:8080/",
          "height": 206
        },
        "id": "cL1FE-rpkigT",
        "outputId": "11f397cb-3d4e-47c8-ecd8-0f87faf8a5ed"
      },
      "execution_count": 16,
      "outputs": [
        {
          "output_type": "execute_result",
          "data": {
            "text/plain": [
              "                                                 Name  Rating Average  \\\n",
              "4504                                       Frosthaven            7.33   \n",
              "5                        Gloomhaven: Jaws of the Lion            8.87   \n",
              "1218                                       Dragonfire            7.28   \n",
              "87    The Lord of the Rings: Journeys in Middle-Earth            8.08   \n",
              "21                       Arkham Horror: The Card Game            8.17   \n",
              "\n",
              "      Complexity Average  \n",
              "4504                3.35  \n",
              "5                   3.55  \n",
              "1218                3.22  \n",
              "87                  2.57  \n",
              "21                  3.44  "
            ],
            "text/html": [
              "\n",
              "  <div id=\"df-38f9a6c9-76f0-467b-9282-d991ce015e3d\" class=\"colab-df-container\">\n",
              "    <div>\n",
              "<style scoped>\n",
              "    .dataframe tbody tr th:only-of-type {\n",
              "        vertical-align: middle;\n",
              "    }\n",
              "\n",
              "    .dataframe tbody tr th {\n",
              "        vertical-align: top;\n",
              "    }\n",
              "\n",
              "    .dataframe thead th {\n",
              "        text-align: right;\n",
              "    }\n",
              "</style>\n",
              "<table border=\"1\" class=\"dataframe\">\n",
              "  <thead>\n",
              "    <tr style=\"text-align: right;\">\n",
              "      <th></th>\n",
              "      <th>Name</th>\n",
              "      <th>Rating Average</th>\n",
              "      <th>Complexity Average</th>\n",
              "    </tr>\n",
              "  </thead>\n",
              "  <tbody>\n",
              "    <tr>\n",
              "      <th>4504</th>\n",
              "      <td>Frosthaven</td>\n",
              "      <td>7.33</td>\n",
              "      <td>3.35</td>\n",
              "    </tr>\n",
              "    <tr>\n",
              "      <th>5</th>\n",
              "      <td>Gloomhaven: Jaws of the Lion</td>\n",
              "      <td>8.87</td>\n",
              "      <td>3.55</td>\n",
              "    </tr>\n",
              "    <tr>\n",
              "      <th>1218</th>\n",
              "      <td>Dragonfire</td>\n",
              "      <td>7.28</td>\n",
              "      <td>3.22</td>\n",
              "    </tr>\n",
              "    <tr>\n",
              "      <th>87</th>\n",
              "      <td>The Lord of the Rings: Journeys in Middle-Earth</td>\n",
              "      <td>8.08</td>\n",
              "      <td>2.57</td>\n",
              "    </tr>\n",
              "    <tr>\n",
              "      <th>21</th>\n",
              "      <td>Arkham Horror: The Card Game</td>\n",
              "      <td>8.17</td>\n",
              "      <td>3.44</td>\n",
              "    </tr>\n",
              "  </tbody>\n",
              "</table>\n",
              "</div>\n",
              "    <div class=\"colab-df-buttons\">\n",
              "\n",
              "  <div class=\"colab-df-container\">\n",
              "    <button class=\"colab-df-convert\" onclick=\"convertToInteractive('df-38f9a6c9-76f0-467b-9282-d991ce015e3d')\"\n",
              "            title=\"Convert this dataframe to an interactive table.\"\n",
              "            style=\"display:none;\">\n",
              "\n",
              "  <svg xmlns=\"http://www.w3.org/2000/svg\" height=\"24px\" viewBox=\"0 -960 960 960\">\n",
              "    <path d=\"M120-120v-720h720v720H120Zm60-500h600v-160H180v160Zm220 220h160v-160H400v160Zm0 220h160v-160H400v160ZM180-400h160v-160H180v160Zm440 0h160v-160H620v160ZM180-180h160v-160H180v160Zm440 0h160v-160H620v160Z\"/>\n",
              "  </svg>\n",
              "    </button>\n",
              "\n",
              "  <style>\n",
              "    .colab-df-container {\n",
              "      display:flex;\n",
              "      gap: 12px;\n",
              "    }\n",
              "\n",
              "    .colab-df-convert {\n",
              "      background-color: #E8F0FE;\n",
              "      border: none;\n",
              "      border-radius: 50%;\n",
              "      cursor: pointer;\n",
              "      display: none;\n",
              "      fill: #1967D2;\n",
              "      height: 32px;\n",
              "      padding: 0 0 0 0;\n",
              "      width: 32px;\n",
              "    }\n",
              "\n",
              "    .colab-df-convert:hover {\n",
              "      background-color: #E2EBFA;\n",
              "      box-shadow: 0px 1px 2px rgba(60, 64, 67, 0.3), 0px 1px 3px 1px rgba(60, 64, 67, 0.15);\n",
              "      fill: #174EA6;\n",
              "    }\n",
              "\n",
              "    .colab-df-buttons div {\n",
              "      margin-bottom: 4px;\n",
              "    }\n",
              "\n",
              "    [theme=dark] .colab-df-convert {\n",
              "      background-color: #3B4455;\n",
              "      fill: #D2E3FC;\n",
              "    }\n",
              "\n",
              "    [theme=dark] .colab-df-convert:hover {\n",
              "      background-color: #434B5C;\n",
              "      box-shadow: 0px 1px 3px 1px rgba(0, 0, 0, 0.15);\n",
              "      filter: drop-shadow(0px 1px 2px rgba(0, 0, 0, 0.3));\n",
              "      fill: #FFFFFF;\n",
              "    }\n",
              "  </style>\n",
              "\n",
              "    <script>\n",
              "      const buttonEl =\n",
              "        document.querySelector('#df-38f9a6c9-76f0-467b-9282-d991ce015e3d button.colab-df-convert');\n",
              "      buttonEl.style.display =\n",
              "        google.colab.kernel.accessAllowed ? 'block' : 'none';\n",
              "\n",
              "      async function convertToInteractive(key) {\n",
              "        const element = document.querySelector('#df-38f9a6c9-76f0-467b-9282-d991ce015e3d');\n",
              "        const dataTable =\n",
              "          await google.colab.kernel.invokeFunction('convertToInteractive',\n",
              "                                                    [key], {});\n",
              "        if (!dataTable) return;\n",
              "\n",
              "        const docLinkHtml = 'Like what you see? Visit the ' +\n",
              "          '<a target=\"_blank\" href=https://colab.research.google.com/notebooks/data_table.ipynb>data table notebook</a>'\n",
              "          + ' to learn more about interactive tables.';\n",
              "        element.innerHTML = '';\n",
              "        dataTable['output_type'] = 'display_data';\n",
              "        await google.colab.output.renderOutput(dataTable, element);\n",
              "        const docLink = document.createElement('div');\n",
              "        docLink.innerHTML = docLinkHtml;\n",
              "        element.appendChild(docLink);\n",
              "      }\n",
              "    </script>\n",
              "  </div>\n",
              "\n",
              "\n",
              "    <div id=\"df-8bf705da-f555-420d-8d31-fb746b5db43e\">\n",
              "      <button class=\"colab-df-quickchart\" onclick=\"quickchart('df-8bf705da-f555-420d-8d31-fb746b5db43e')\"\n",
              "                title=\"Suggest charts\"\n",
              "                style=\"display:none;\">\n",
              "\n",
              "<svg xmlns=\"http://www.w3.org/2000/svg\" height=\"24px\"viewBox=\"0 0 24 24\"\n",
              "     width=\"24px\">\n",
              "    <g>\n",
              "        <path d=\"M19 3H5c-1.1 0-2 .9-2 2v14c0 1.1.9 2 2 2h14c1.1 0 2-.9 2-2V5c0-1.1-.9-2-2-2zM9 17H7v-7h2v7zm4 0h-2V7h2v10zm4 0h-2v-4h2v4z\"/>\n",
              "    </g>\n",
              "</svg>\n",
              "      </button>\n",
              "\n",
              "<style>\n",
              "  .colab-df-quickchart {\n",
              "      --bg-color: #E8F0FE;\n",
              "      --fill-color: #1967D2;\n",
              "      --hover-bg-color: #E2EBFA;\n",
              "      --hover-fill-color: #174EA6;\n",
              "      --disabled-fill-color: #AAA;\n",
              "      --disabled-bg-color: #DDD;\n",
              "  }\n",
              "\n",
              "  [theme=dark] .colab-df-quickchart {\n",
              "      --bg-color: #3B4455;\n",
              "      --fill-color: #D2E3FC;\n",
              "      --hover-bg-color: #434B5C;\n",
              "      --hover-fill-color: #FFFFFF;\n",
              "      --disabled-bg-color: #3B4455;\n",
              "      --disabled-fill-color: #666;\n",
              "  }\n",
              "\n",
              "  .colab-df-quickchart {\n",
              "    background-color: var(--bg-color);\n",
              "    border: none;\n",
              "    border-radius: 50%;\n",
              "    cursor: pointer;\n",
              "    display: none;\n",
              "    fill: var(--fill-color);\n",
              "    height: 32px;\n",
              "    padding: 0;\n",
              "    width: 32px;\n",
              "  }\n",
              "\n",
              "  .colab-df-quickchart:hover {\n",
              "    background-color: var(--hover-bg-color);\n",
              "    box-shadow: 0 1px 2px rgba(60, 64, 67, 0.3), 0 1px 3px 1px rgba(60, 64, 67, 0.15);\n",
              "    fill: var(--button-hover-fill-color);\n",
              "  }\n",
              "\n",
              "  .colab-df-quickchart-complete:disabled,\n",
              "  .colab-df-quickchart-complete:disabled:hover {\n",
              "    background-color: var(--disabled-bg-color);\n",
              "    fill: var(--disabled-fill-color);\n",
              "    box-shadow: none;\n",
              "  }\n",
              "\n",
              "  .colab-df-spinner {\n",
              "    border: 2px solid var(--fill-color);\n",
              "    border-color: transparent;\n",
              "    border-bottom-color: var(--fill-color);\n",
              "    animation:\n",
              "      spin 1s steps(1) infinite;\n",
              "  }\n",
              "\n",
              "  @keyframes spin {\n",
              "    0% {\n",
              "      border-color: transparent;\n",
              "      border-bottom-color: var(--fill-color);\n",
              "      border-left-color: var(--fill-color);\n",
              "    }\n",
              "    20% {\n",
              "      border-color: transparent;\n",
              "      border-left-color: var(--fill-color);\n",
              "      border-top-color: var(--fill-color);\n",
              "    }\n",
              "    30% {\n",
              "      border-color: transparent;\n",
              "      border-left-color: var(--fill-color);\n",
              "      border-top-color: var(--fill-color);\n",
              "      border-right-color: var(--fill-color);\n",
              "    }\n",
              "    40% {\n",
              "      border-color: transparent;\n",
              "      border-right-color: var(--fill-color);\n",
              "      border-top-color: var(--fill-color);\n",
              "    }\n",
              "    60% {\n",
              "      border-color: transparent;\n",
              "      border-right-color: var(--fill-color);\n",
              "    }\n",
              "    80% {\n",
              "      border-color: transparent;\n",
              "      border-right-color: var(--fill-color);\n",
              "      border-bottom-color: var(--fill-color);\n",
              "    }\n",
              "    90% {\n",
              "      border-color: transparent;\n",
              "      border-bottom-color: var(--fill-color);\n",
              "    }\n",
              "  }\n",
              "</style>\n",
              "\n",
              "      <script>\n",
              "        async function quickchart(key) {\n",
              "          const quickchartButtonEl =\n",
              "            document.querySelector('#' + key + ' button');\n",
              "          quickchartButtonEl.disabled = true;  // To prevent multiple clicks.\n",
              "          quickchartButtonEl.classList.add('colab-df-spinner');\n",
              "          try {\n",
              "            const charts = await google.colab.kernel.invokeFunction(\n",
              "                'suggestCharts', [key], {});\n",
              "          } catch (error) {\n",
              "            console.error('Error during call to suggestCharts:', error);\n",
              "          }\n",
              "          quickchartButtonEl.classList.remove('colab-df-spinner');\n",
              "          quickchartButtonEl.classList.add('colab-df-quickchart-complete');\n",
              "        }\n",
              "        (() => {\n",
              "          let quickchartButtonEl =\n",
              "            document.querySelector('#df-8bf705da-f555-420d-8d31-fb746b5db43e button');\n",
              "          quickchartButtonEl.style.display =\n",
              "            google.colab.kernel.accessAllowed ? 'block' : 'none';\n",
              "        })();\n",
              "      </script>\n",
              "    </div>\n",
              "\n",
              "    </div>\n",
              "  </div>\n"
            ],
            "application/vnd.google.colaboratory.intrinsic+json": {
              "type": "dataframe",
              "summary": "{\n  \"name\": \"recommend_games_content_based(0, top_n=5)\",\n  \"rows\": 5,\n  \"fields\": [\n    {\n      \"column\": \"Name\",\n      \"properties\": {\n        \"dtype\": \"string\",\n        \"num_unique_values\": 5,\n        \"samples\": [\n          \"Gloomhaven: Jaws of the Lion\",\n          \"Arkham Horror: The Card Game\",\n          \"Dragonfire\"\n        ],\n        \"semantic_type\": \"\",\n        \"description\": \"\"\n      }\n    },\n    {\n      \"column\": \"Rating Average\",\n      \"properties\": {\n        \"dtype\": \"number\",\n        \"std\": 0.660477100284332,\n        \"min\": 7.28,\n        \"max\": 8.87,\n        \"num_unique_values\": 5,\n        \"samples\": [\n          8.87,\n          8.17,\n          7.28\n        ],\n        \"semantic_type\": \"\",\n        \"description\": \"\"\n      }\n    },\n    {\n      \"column\": \"Complexity Average\",\n      \"properties\": {\n        \"dtype\": \"number\",\n        \"std\": 0.3861735361207446,\n        \"min\": 2.57,\n        \"max\": 3.55,\n        \"num_unique_values\": 5,\n        \"samples\": [\n          3.55,\n          3.44,\n          3.22\n        ],\n        \"semantic_type\": \"\",\n        \"description\": \"\"\n      }\n    }\n  ]\n}"
            }
          },
          "metadata": {},
          "execution_count": 16
        }
      ]
    },
    {
      "cell_type": "markdown",
      "source": [
        "**Penjelasan Hasil dan Fungsi:**\n",
        "Fungsi `recommend_games_content_based` menerima indeks game dan mengembalikan daftar top-N game yang paling mirip berdasarkan konten. Ini berguna untuk rekomendasi yang relevan dengan game yang sudah disukai user."
      ],
      "metadata": {
        "id": "mCfc2LLEkhx2"
      }
    },
    {
      "cell_type": "markdown",
      "source": [
        "**Kelebihan dan Kekurangan**\n",
        "\n",
        "**Content-Based Filtering**:\n",
        "* Tidak membutuhkan data interaksi user, cukup fitur konten saja.\n",
        "* Rekomendasi relevan dengan preferensi game yang sudah disukai user.\n",
        "  - Rekomendasi kurang personal dan terbatas pada fitur yang ada.\n",
        "  - Rentan pada “filter bubble” karena hanya merekomendasikan item yang mirip."
      ],
      "metadata": {
        "id": "Xkipr47Xk8I-"
      }
    },
    {
      "cell_type": "markdown",
      "source": [
        "## Evaluation"
      ],
      "metadata": {
        "id": "oqTqmaCSlFqh"
      }
    },
    {
      "cell_type": "markdown",
      "source": [
        "1. **Precision\\@K untuk ontent-Based Filtering**"
      ],
      "metadata": {
        "id": "PrKO46CTqp7j"
      }
    },
    {
      "cell_type": "markdown",
      "source": [
        "**1. Evaluation: Content-Based Filtering (Precision@K)**\n",
        "\n",
        "**Penjelasan**\n",
        "\n",
        "Pada tahap evaluasi, digunakan metrik Precision@K untuk mengukur seberapa banyak rekomendasi yang diberikan oleh model Content-Based Filtering memiliki kemiripan fitur utama (``Mechanics dan Domains``) dengan game referensi. Precision@K menunjukkan proporsi rekomendasi yang relevan dalam daftar rekomendasi teratas sebanyak K item. Evaluasi ini membantu menilai kualitas sistem rekomendasi secara kuantitatif."
      ],
      "metadata": {
        "id": "-512Tg_ssoyh"
      }
    },
    {
      "cell_type": "code",
      "source": [
        "# Gabungkan fitur teks\n",
        "df_selected['content'] = df_selected['Mechanics'].str.join(' ') + ' ' + df_selected['Domains'].str.join(' ')\n",
        "tfidf = TfidfVectorizer()\n",
        "tfidf_matrix = tfidf.fit_transform(df_selected['content'])\n",
        "\n",
        "# Gunakan game referensi (misalnya: Gloomhaven)\n",
        "ref_idx = 0\n",
        "cos_sim = cosine_similarity(tfidf_matrix[ref_idx], tfidf_matrix).flatten()\n",
        "top_indices = cos_sim.argsort()[-6:-1][::-1]  # top 5 selain dirinya\n",
        "\n",
        "# Lihat hasil rekomendasi\n",
        "df_selected.iloc[top_indices][['Name', 'Mechanics', 'Domains']]"
      ],
      "metadata": {
        "colab": {
          "base_uri": "https://localhost:8080/",
          "height": 206
        },
        "id": "CbwtIY5VsyR5",
        "outputId": "f39e660a-b006-41af-b5b8-c648c9a3a30a"
      },
      "execution_count": 17,
      "outputs": [
        {
          "output_type": "execute_result",
          "data": {
            "text/plain": [
              "                                                 Name  \\\n",
              "4504                                       Frosthaven   \n",
              "5                        Gloomhaven: Jaws of the Lion   \n",
              "1218                                       Dragonfire   \n",
              "87    The Lord of the Rings: Journeys in Middle-Earth   \n",
              "21                       Arkham Horror: The Card Game   \n",
              "\n",
              "                                              Mechanics  \\\n",
              "4504  [action drafting, campaign / battle card drive...   \n",
              "5     [action queue, campaign / battle card driven, ...   \n",
              "1218  [card drafting, cooperative game, deck bag and...   \n",
              "87    [cooperative game, deck bag and pool building,...   \n",
              "21    [action points, cooperative game, deck constru...   \n",
              "\n",
              "                                   Domains  \n",
              "4504                      [strategy games]  \n",
              "5         [strategy games, thematic games]  \n",
              "1218      [strategy games, thematic games]  \n",
              "87                        [thematic games]  \n",
              "21    [customizable games, thematic games]  "
            ],
            "text/html": [
              "\n",
              "  <div id=\"df-1b70672c-bf5c-4458-b452-67d85c18b00c\" class=\"colab-df-container\">\n",
              "    <div>\n",
              "<style scoped>\n",
              "    .dataframe tbody tr th:only-of-type {\n",
              "        vertical-align: middle;\n",
              "    }\n",
              "\n",
              "    .dataframe tbody tr th {\n",
              "        vertical-align: top;\n",
              "    }\n",
              "\n",
              "    .dataframe thead th {\n",
              "        text-align: right;\n",
              "    }\n",
              "</style>\n",
              "<table border=\"1\" class=\"dataframe\">\n",
              "  <thead>\n",
              "    <tr style=\"text-align: right;\">\n",
              "      <th></th>\n",
              "      <th>Name</th>\n",
              "      <th>Mechanics</th>\n",
              "      <th>Domains</th>\n",
              "    </tr>\n",
              "  </thead>\n",
              "  <tbody>\n",
              "    <tr>\n",
              "      <th>4504</th>\n",
              "      <td>Frosthaven</td>\n",
              "      <td>[action drafting, campaign / battle card drive...</td>\n",
              "      <td>[strategy games]</td>\n",
              "    </tr>\n",
              "    <tr>\n",
              "      <th>5</th>\n",
              "      <td>Gloomhaven: Jaws of the Lion</td>\n",
              "      <td>[action queue, campaign / battle card driven, ...</td>\n",
              "      <td>[strategy games, thematic games]</td>\n",
              "    </tr>\n",
              "    <tr>\n",
              "      <th>1218</th>\n",
              "      <td>Dragonfire</td>\n",
              "      <td>[card drafting, cooperative game, deck bag and...</td>\n",
              "      <td>[strategy games, thematic games]</td>\n",
              "    </tr>\n",
              "    <tr>\n",
              "      <th>87</th>\n",
              "      <td>The Lord of the Rings: Journeys in Middle-Earth</td>\n",
              "      <td>[cooperative game, deck bag and pool building,...</td>\n",
              "      <td>[thematic games]</td>\n",
              "    </tr>\n",
              "    <tr>\n",
              "      <th>21</th>\n",
              "      <td>Arkham Horror: The Card Game</td>\n",
              "      <td>[action points, cooperative game, deck constru...</td>\n",
              "      <td>[customizable games, thematic games]</td>\n",
              "    </tr>\n",
              "  </tbody>\n",
              "</table>\n",
              "</div>\n",
              "    <div class=\"colab-df-buttons\">\n",
              "\n",
              "  <div class=\"colab-df-container\">\n",
              "    <button class=\"colab-df-convert\" onclick=\"convertToInteractive('df-1b70672c-bf5c-4458-b452-67d85c18b00c')\"\n",
              "            title=\"Convert this dataframe to an interactive table.\"\n",
              "            style=\"display:none;\">\n",
              "\n",
              "  <svg xmlns=\"http://www.w3.org/2000/svg\" height=\"24px\" viewBox=\"0 -960 960 960\">\n",
              "    <path d=\"M120-120v-720h720v720H120Zm60-500h600v-160H180v160Zm220 220h160v-160H400v160Zm0 220h160v-160H400v160ZM180-400h160v-160H180v160Zm440 0h160v-160H620v160ZM180-180h160v-160H180v160Zm440 0h160v-160H620v160Z\"/>\n",
              "  </svg>\n",
              "    </button>\n",
              "\n",
              "  <style>\n",
              "    .colab-df-container {\n",
              "      display:flex;\n",
              "      gap: 12px;\n",
              "    }\n",
              "\n",
              "    .colab-df-convert {\n",
              "      background-color: #E8F0FE;\n",
              "      border: none;\n",
              "      border-radius: 50%;\n",
              "      cursor: pointer;\n",
              "      display: none;\n",
              "      fill: #1967D2;\n",
              "      height: 32px;\n",
              "      padding: 0 0 0 0;\n",
              "      width: 32px;\n",
              "    }\n",
              "\n",
              "    .colab-df-convert:hover {\n",
              "      background-color: #E2EBFA;\n",
              "      box-shadow: 0px 1px 2px rgba(60, 64, 67, 0.3), 0px 1px 3px 1px rgba(60, 64, 67, 0.15);\n",
              "      fill: #174EA6;\n",
              "    }\n",
              "\n",
              "    .colab-df-buttons div {\n",
              "      margin-bottom: 4px;\n",
              "    }\n",
              "\n",
              "    [theme=dark] .colab-df-convert {\n",
              "      background-color: #3B4455;\n",
              "      fill: #D2E3FC;\n",
              "    }\n",
              "\n",
              "    [theme=dark] .colab-df-convert:hover {\n",
              "      background-color: #434B5C;\n",
              "      box-shadow: 0px 1px 3px 1px rgba(0, 0, 0, 0.15);\n",
              "      filter: drop-shadow(0px 1px 2px rgba(0, 0, 0, 0.3));\n",
              "      fill: #FFFFFF;\n",
              "    }\n",
              "  </style>\n",
              "\n",
              "    <script>\n",
              "      const buttonEl =\n",
              "        document.querySelector('#df-1b70672c-bf5c-4458-b452-67d85c18b00c button.colab-df-convert');\n",
              "      buttonEl.style.display =\n",
              "        google.colab.kernel.accessAllowed ? 'block' : 'none';\n",
              "\n",
              "      async function convertToInteractive(key) {\n",
              "        const element = document.querySelector('#df-1b70672c-bf5c-4458-b452-67d85c18b00c');\n",
              "        const dataTable =\n",
              "          await google.colab.kernel.invokeFunction('convertToInteractive',\n",
              "                                                    [key], {});\n",
              "        if (!dataTable) return;\n",
              "\n",
              "        const docLinkHtml = 'Like what you see? Visit the ' +\n",
              "          '<a target=\"_blank\" href=https://colab.research.google.com/notebooks/data_table.ipynb>data table notebook</a>'\n",
              "          + ' to learn more about interactive tables.';\n",
              "        element.innerHTML = '';\n",
              "        dataTable['output_type'] = 'display_data';\n",
              "        await google.colab.output.renderOutput(dataTable, element);\n",
              "        const docLink = document.createElement('div');\n",
              "        docLink.innerHTML = docLinkHtml;\n",
              "        element.appendChild(docLink);\n",
              "      }\n",
              "    </script>\n",
              "  </div>\n",
              "\n",
              "\n",
              "    <div id=\"df-71657782-1cdf-494f-98d8-51cff5e0c56f\">\n",
              "      <button class=\"colab-df-quickchart\" onclick=\"quickchart('df-71657782-1cdf-494f-98d8-51cff5e0c56f')\"\n",
              "                title=\"Suggest charts\"\n",
              "                style=\"display:none;\">\n",
              "\n",
              "<svg xmlns=\"http://www.w3.org/2000/svg\" height=\"24px\"viewBox=\"0 0 24 24\"\n",
              "     width=\"24px\">\n",
              "    <g>\n",
              "        <path d=\"M19 3H5c-1.1 0-2 .9-2 2v14c0 1.1.9 2 2 2h14c1.1 0 2-.9 2-2V5c0-1.1-.9-2-2-2zM9 17H7v-7h2v7zm4 0h-2V7h2v10zm4 0h-2v-4h2v4z\"/>\n",
              "    </g>\n",
              "</svg>\n",
              "      </button>\n",
              "\n",
              "<style>\n",
              "  .colab-df-quickchart {\n",
              "      --bg-color: #E8F0FE;\n",
              "      --fill-color: #1967D2;\n",
              "      --hover-bg-color: #E2EBFA;\n",
              "      --hover-fill-color: #174EA6;\n",
              "      --disabled-fill-color: #AAA;\n",
              "      --disabled-bg-color: #DDD;\n",
              "  }\n",
              "\n",
              "  [theme=dark] .colab-df-quickchart {\n",
              "      --bg-color: #3B4455;\n",
              "      --fill-color: #D2E3FC;\n",
              "      --hover-bg-color: #434B5C;\n",
              "      --hover-fill-color: #FFFFFF;\n",
              "      --disabled-bg-color: #3B4455;\n",
              "      --disabled-fill-color: #666;\n",
              "  }\n",
              "\n",
              "  .colab-df-quickchart {\n",
              "    background-color: var(--bg-color);\n",
              "    border: none;\n",
              "    border-radius: 50%;\n",
              "    cursor: pointer;\n",
              "    display: none;\n",
              "    fill: var(--fill-color);\n",
              "    height: 32px;\n",
              "    padding: 0;\n",
              "    width: 32px;\n",
              "  }\n",
              "\n",
              "  .colab-df-quickchart:hover {\n",
              "    background-color: var(--hover-bg-color);\n",
              "    box-shadow: 0 1px 2px rgba(60, 64, 67, 0.3), 0 1px 3px 1px rgba(60, 64, 67, 0.15);\n",
              "    fill: var(--button-hover-fill-color);\n",
              "  }\n",
              "\n",
              "  .colab-df-quickchart-complete:disabled,\n",
              "  .colab-df-quickchart-complete:disabled:hover {\n",
              "    background-color: var(--disabled-bg-color);\n",
              "    fill: var(--disabled-fill-color);\n",
              "    box-shadow: none;\n",
              "  }\n",
              "\n",
              "  .colab-df-spinner {\n",
              "    border: 2px solid var(--fill-color);\n",
              "    border-color: transparent;\n",
              "    border-bottom-color: var(--fill-color);\n",
              "    animation:\n",
              "      spin 1s steps(1) infinite;\n",
              "  }\n",
              "\n",
              "  @keyframes spin {\n",
              "    0% {\n",
              "      border-color: transparent;\n",
              "      border-bottom-color: var(--fill-color);\n",
              "      border-left-color: var(--fill-color);\n",
              "    }\n",
              "    20% {\n",
              "      border-color: transparent;\n",
              "      border-left-color: var(--fill-color);\n",
              "      border-top-color: var(--fill-color);\n",
              "    }\n",
              "    30% {\n",
              "      border-color: transparent;\n",
              "      border-left-color: var(--fill-color);\n",
              "      border-top-color: var(--fill-color);\n",
              "      border-right-color: var(--fill-color);\n",
              "    }\n",
              "    40% {\n",
              "      border-color: transparent;\n",
              "      border-right-color: var(--fill-color);\n",
              "      border-top-color: var(--fill-color);\n",
              "    }\n",
              "    60% {\n",
              "      border-color: transparent;\n",
              "      border-right-color: var(--fill-color);\n",
              "    }\n",
              "    80% {\n",
              "      border-color: transparent;\n",
              "      border-right-color: var(--fill-color);\n",
              "      border-bottom-color: var(--fill-color);\n",
              "    }\n",
              "    90% {\n",
              "      border-color: transparent;\n",
              "      border-bottom-color: var(--fill-color);\n",
              "    }\n",
              "  }\n",
              "</style>\n",
              "\n",
              "      <script>\n",
              "        async function quickchart(key) {\n",
              "          const quickchartButtonEl =\n",
              "            document.querySelector('#' + key + ' button');\n",
              "          quickchartButtonEl.disabled = true;  // To prevent multiple clicks.\n",
              "          quickchartButtonEl.classList.add('colab-df-spinner');\n",
              "          try {\n",
              "            const charts = await google.colab.kernel.invokeFunction(\n",
              "                'suggestCharts', [key], {});\n",
              "          } catch (error) {\n",
              "            console.error('Error during call to suggestCharts:', error);\n",
              "          }\n",
              "          quickchartButtonEl.classList.remove('colab-df-spinner');\n",
              "          quickchartButtonEl.classList.add('colab-df-quickchart-complete');\n",
              "        }\n",
              "        (() => {\n",
              "          let quickchartButtonEl =\n",
              "            document.querySelector('#df-71657782-1cdf-494f-98d8-51cff5e0c56f button');\n",
              "          quickchartButtonEl.style.display =\n",
              "            google.colab.kernel.accessAllowed ? 'block' : 'none';\n",
              "        })();\n",
              "      </script>\n",
              "    </div>\n",
              "\n",
              "    </div>\n",
              "  </div>\n"
            ],
            "application/vnd.google.colaboratory.intrinsic+json": {
              "type": "dataframe",
              "summary": "{\n  \"name\": \"df_selected\",\n  \"rows\": 5,\n  \"fields\": [\n    {\n      \"column\": \"Name\",\n      \"properties\": {\n        \"dtype\": \"string\",\n        \"num_unique_values\": 5,\n        \"samples\": [\n          \"Gloomhaven: Jaws of the Lion\",\n          \"Arkham Horror: The Card Game\",\n          \"Dragonfire\"\n        ],\n        \"semantic_type\": \"\",\n        \"description\": \"\"\n      }\n    },\n    {\n      \"column\": \"Mechanics\",\n      \"properties\": {\n        \"dtype\": \"object\",\n        \"semantic_type\": \"\",\n        \"description\": \"\"\n      }\n    },\n    {\n      \"column\": \"Domains\",\n      \"properties\": {\n        \"dtype\": \"object\",\n        \"semantic_type\": \"\",\n        \"description\": \"\"\n      }\n    }\n  ]\n}"
            }
          },
          "metadata": {},
          "execution_count": 17
        }
      ]
    },
    {
      "cell_type": "code",
      "source": [
        "def precision_at_k_content_based(game_index, top_n=10, threshold=0.5):\n",
        "    # Ambil mechanics & domains game input sebagai set\n",
        "    ref_mechanics = set(df_selected.iloc[game_index]['Mechanics'])\n",
        "    ref_domains = set(df_selected.iloc[game_index]['Domains'])\n",
        "\n",
        "    # Dapatkan rekomendasi top_n game (indeks dan skor)\n",
        "    sim_scores = list(enumerate(cosine_sim[game_index]))\n",
        "    sim_scores = sorted(sim_scores, key=lambda x: x[1], reverse=True)\n",
        "    sim_scores = sim_scores[1:top_n+1]  # exclude game itu sendiri\n",
        "\n",
        "    relevant_count = 0\n",
        "    for idx, score in sim_scores:\n",
        "        rec_mechanics = set(df_selected.iloc[idx]['Mechanics'])\n",
        "        rec_domains = set(df_selected.iloc[idx]['Domains'])\n",
        "\n",
        "        # Hitung overlap\n",
        "        mechanics_overlap = len(ref_mechanics.intersection(rec_mechanics)) / (len(ref_mechanics) or 1)\n",
        "        domains_overlap = len(ref_domains.intersection(rec_domains)) / (len(ref_domains) or 1)\n",
        "\n",
        "        # Jika overlap di mechanics atau domains melebihi threshold, anggap relevan\n",
        "        if mechanics_overlap >= threshold or domains_overlap >= threshold:\n",
        "            relevant_count += 1\n",
        "\n",
        "    precision = relevant_count / top_n\n",
        "    return precision\n",
        "\n",
        "# Contoh pakai\n",
        "precision_cb = precision_at_k_content_based(game_index=0, top_n=5, threshold=0.5)\n",
        "print(f\"Precision@5 Content-Based (berdasarkan mechanics/domains): {precision_cb:.2f}\")"
      ],
      "metadata": {
        "colab": {
          "base_uri": "https://localhost:8080/"
        },
        "id": "sqhXLX_RIdkx",
        "outputId": "efb765fa-2bd8-4b7e-a193-696be4bec9bc"
      },
      "execution_count": 18,
      "outputs": [
        {
          "output_type": "stream",
          "name": "stdout",
          "text": [
            "Precision@5 Content-Based (berdasarkan mechanics/domains): 1.00\n"
          ]
        }
      ]
    },
    {
      "cell_type": "markdown",
      "source": [
        "Model Content-Based Filtering menunjukkan performa yang sangat baik dengan Precision@5 sebesar 1.00, yang berarti semua rekomendasi dalam top 5 memiliki kemiripan fitur `Mechanics` dan `Domains` yang tinggi dengan game referensi. Hasil ini mengindikasikan sistem mampu secara akurat mengenali dan merekomendasikan game yang secara substansi relevan berdasarkan karakteristik utama permainan."
      ],
      "metadata": {
        "id": "DwzwHl9NtKyN"
      }
    },
    {
      "cell_type": "markdown",
      "source": [
        "**Hasil Evaluasi**\n",
        "\n",
        "Pada evaluasi sistem rekomendasi, digunakan metrik Precision@5 untuk mengukur seberapa relevan rekomendasi yang diberikan oleh Content-Based Filtering (CBF).\n",
        "\n",
        "* **Content-Based Filtering (CBF)** memperoleh nilai Precision@5 sebesar 1.0, yang berarti semua rekomendasi yang diberikan memiliki kemiripan tinggi dari segi fitur konten (Mechanics dan Domains).\n",
        "\n",
        "Hasil ini menunjukkan bahwa CBF memberikan rekomendasi yang sangat tepat berdasarkan kesamaan konten, khususnya dalam kondisi data interaksi pengguna yang terbatas atau tidak tersedia."
      ],
      "metadata": {
        "id": "GC302CTtUDkw"
      }
    },
    {
      "cell_type": "markdown",
      "source": [
        "**3. Dampak terhadap Business Understanding**\n",
        "\n",
        "* ✅ **Problem Statement Terjawab:** Sistem memberikan rekomendasi berdasarkan kesamaan konten game.\n",
        "* 🎯 **Goal Tercapai:** Sistem dapat menampilkan top-N board games yang relevan dan sesuai dengan `Mechanics` dan `Domains`.\n",
        "* 🧩 **Solusi Berdampak:** *Content-Based* memungkinkan rekomendasi meski tanpa data pengguna."
      ],
      "metadata": {
        "id": "XsZtbUNasNYe"
      }
    }
  ]
}